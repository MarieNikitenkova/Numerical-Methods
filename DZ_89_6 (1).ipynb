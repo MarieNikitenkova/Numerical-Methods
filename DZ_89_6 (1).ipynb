{
  "nbformat": 4,
  "nbformat_minor": 0,
  "metadata": {
    "colab": {
      "name": "DZ_89_6.ipynb",
      "provenance": []
    },
    "kernelspec": {
      "name": "python3",
      "display_name": "Python 3"
    },
    "language_info": {
      "name": "python"
    }
  },
  "cells": [
    {
      "cell_type": "code",
      "metadata": {
        "id": "W7CDUOyk4D-B"
      },
      "source": [
        "import numpy as np\n",
        "import matplotlib.pyplot as plt"
      ],
      "execution_count": 5,
      "outputs": []
    },
    {
      "cell_type": "code",
      "metadata": {
        "id": "bytW_HG65az9"
      },
      "source": [
        "def Legendre_roots_weights(a, b):\n",
        "  x1 = ((b-a)*(0.8611363116) + a + b) / 2\n",
        "  x2 = ((b-a)*(0.3399810436) + a + b) / 2\n",
        "  x3 = ((b-a)*(-0.8611363116) + a + b) / 2\n",
        "  x4 = ((b-a)*(-0.3399810436) + a + b) / 2\n",
        "  w1 = 0.3478548451 * (b-a)/2\n",
        "  w2 = 0.6521451549 * (b-a)/2\n",
        "  w3 = 0.3478548451 * (b-a)/2\n",
        "  w4 = 0.6521451549 * (b-a)/2\n",
        "  return np.array((x1, x2, x3, x4)), np.array((w1, w2,w3, w4))"
      ],
      "execution_count": 6,
      "outputs": []
    },
    {
      "cell_type": "code",
      "metadata": {
        "id": "LATksxrs5ciK"
      },
      "source": [
        "Y, W = Legendre_roots_weights(0, 1)\n",
        "\n",
        "def k(x, t):\n",
        "  return np.sqrt(x * t)\n",
        "\n",
        "M = np.empty((4, 4))\n",
        "for i in range(4):\n",
        "  for j in range(4):\n",
        "    M[i][j] = W[j] * k(Y[i], Y[j])\n",
        "\n",
        "M *= (-1)\n",
        "M = M + np.eye(4)"
      ],
      "execution_count": 7,
      "outputs": []
    },
    {
      "cell_type": "code",
      "metadata": {
        "id": "LYv0lFm55kPO"
      },
      "source": [
        "def f(x):\n",
        "  return 5 * np.sqrt(x)\n",
        "\n",
        "ff = np.empty(4)\n",
        "for i in range(4):\n",
        "  ff[i] = f(Y[i])"
      ],
      "execution_count": 9,
      "outputs": []
    },
    {
      "cell_type": "code",
      "metadata": {
        "colab": {
          "base_uri": "https://localhost:8080/",
          "height": 282
        },
        "id": "kNRaWjOk5k4d",
        "outputId": "2561d738-c5ff-407f-e3fb-52d269394998"
      },
      "source": [
        "phi = np.linalg.solve(M, ff)\n",
        "\n",
        "x = np.linspace(1, 50, 100)\n",
        "phi_x = np.array([np.sum(np.array([W[i] * phi[i] * k(Y[i], j) for i in range(4)])) + f(j) for j in x])\n",
        "phi_x_exact = np.array([10 * np.sqrt(i) for i in x])\n",
        "\n",
        "plt.plot(x, phi_x, 'r', label='Numerical solution')\n",
        "plt.plot(x,  phi_x_exact, 'g--', label='Exact solution')\n",
        "plt.legend()"
      ],
      "execution_count": 10,
      "outputs": [
        {
          "output_type": "execute_result",
          "data": {
            "text/plain": [
              "<matplotlib.legend.Legend at 0x7fc5461b9150>"
            ]
          },
          "metadata": {
            "tags": []
          },
          "execution_count": 10
        },
        {
          "output_type": "display_data",
          "data": {
            "image/png": "[encoded data removed]",
            "text/plain": [
              "<Figure size 432x288 with 1 Axes>"
            ]
          },
          "metadata": {
            "tags": [],
            "needs_background": "light"
          }
        }
      ]
    }
  ]
}