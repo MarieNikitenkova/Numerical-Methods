{
  "nbformat": 4,
  "nbformat_minor": 0,
  "metadata": {
    "colab": {
      "name": "DZ_2_B_5.ipynb",
      "provenance": []
    },
    "kernelspec": {
      "name": "python3",
      "display_name": "Python 3"
    }
  },
  "cells": [
    {
      "cell_type": "code",
      "metadata": {
        "id": "aNb5GHyLzwbd"
      },
      "source": [
        "import numpy as np"
      ],
      "execution_count": 5,
      "outputs": []
    },
    {
      "cell_type": "code",
      "metadata": {
        "id": "uXX7QH1syKCs"
      },
      "source": [
        "p = 5000\r\n",
        "k = 100\r\n",
        "A = np.diag(np.diag(np.random.rand(p, p)))\r\n",
        "U = np.random.rand(p, k)\r\n",
        "V = np.random.rand(k, p)\r\n",
        "def woodbury(A, U, V): # по формуле с расчетом обратной матрицы через функцию inv\r\n",
        "  A_inv = np.linalg.inv(A)\r\n",
        "  return A_inv - A_inv @ U @ np.linalg.inv(np.eye(k, dtype=float) + V @ A_inv @ U) @ V @ A_inv"
      ],
      "execution_count": 7,
      "outputs": []
    },
    {
      "cell_type": "code",
      "metadata": {
        "id": "OunN7DSryq82"
      },
      "source": [
        "def woodbury_diag(A, U, V): # с подсчетом обратной матрицы вручную\r\n",
        "  A_inv = A\r\n",
        "  for i in range(p):\r\n",
        "    A_inv[i][i] = 1/ A_inv[i][i]\r\n",
        "  return A_inv - A_inv@ U @ np.linalg.inv(np.eye(k, dtype=float) + V@A_inv@U)@V@A_inv"
      ],
      "execution_count": 8,
      "outputs": []
    },
    {
      "cell_type": "code",
      "metadata": {
        "colab": {
          "base_uri": "https://localhost:8080/"
        },
        "id": "e9n8JYIiytbC",
        "outputId": "86d93296-1124-401e-c6db-02697135da0f"
      },
      "source": [
        "%%time\r\n",
        "res = woodbury(A, U, V) #с подсчетом по формуле и нахождением обратной матрицы функцией inv"
      ],
      "execution_count": 9,
      "outputs": [
        {
          "output_type": "stream",
          "text": [
            "CPU times: user 36.3 s, sys: 615 ms, total: 37 s\n",
            "Wall time: 19 s\n"
          ],
          "name": "stdout"
        }
      ]
    },
    {
      "cell_type": "code",
      "metadata": {
        "colab": {
          "base_uri": "https://localhost:8080/"
        },
        "id": "DkkfzlwtyvaW",
        "outputId": "5c199967-4cd9-461e-b187-862edb1417b9"
      },
      "source": [
        "%%time\r\n",
        "res1 = woodbury_diag(A, U, V) #с подсчетом по формуле и нахождением обратной матрицы вручную"
      ],
      "execution_count": 10,
      "outputs": [
        {
          "output_type": "stream",
          "text": [
            "CPU times: user 15.8 s, sys: 135 ms, total: 15.9 s\n",
            "Wall time: 8.1 s\n"
          ],
          "name": "stdout"
        }
      ]
    },
    {
      "cell_type": "code",
      "metadata": {
        "colab": {
          "base_uri": "https://localhost:8080/"
        },
        "id": "Jk0CIx31yzat",
        "outputId": "9bf92407-826d-40c5-f4c5-f2f7e48a08d1"
      },
      "source": [
        "%%time\r\n",
        "res2 = np.linalg.inv(A + U @ V) #прямое вычисление"
      ],
      "execution_count": 11,
      "outputs": [
        {
          "output_type": "stream",
          "text": [
            "CPU times: user 20.7 s, sys: 537 ms, total: 21.3 s\n",
            "Wall time: 10.9 s\n"
          ],
          "name": "stdout"
        }
      ]
    }
  ]
}