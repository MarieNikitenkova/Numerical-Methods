{
  "nbformat": 4,
  "nbformat_minor": 0,
  "metadata": {
    "colab": {
      "name": "DZ_5_2.ipynb",
      "provenance": [],
      "collapsed_sections": []
    },
    "kernelspec": {
      "name": "python3",
      "display_name": "Python 3"
    },
    "language_info": {
      "name": "python"
    }
  },
  "cells": [
    {
      "cell_type": "code",
      "metadata": {
        "id": "No3hP1Q6heKU"
      },
      "source": [
        "import math\n",
        "import numpy as np"
      ],
      "execution_count": 1,
      "outputs": []
    },
    {
      "cell_type": "code",
      "metadata": {
        "id": "yvFYx1A8hikz"
      },
      "source": [
        "rnd = np.random.RandomState(1234)\n",
        "\n",
        "n = 10\n",
        "A = rnd.uniform(size=(n, n)) + np.diag([15]*n)\n",
        "b = rnd.uniform(size=n)"
      ],
      "execution_count": 2,
      "outputs": []
    },
    {
      "cell_type": "code",
      "metadata": {
        "id": "3AbEtEOfh0cg"
      },
      "source": [
        "diag_1d = np.diag(A)\n",
        "\n",
        "B = -A.copy()\n",
        "np.fill_diagonal(B, 0)\n",
        "\n",
        "D = np.diag(diag_1d)\n",
        "\n",
        "D_inv = np.diag(1/diag_1d)\n",
        "BB = D_inv @ B\n",
        "c = D_inv @ b"
      ],
      "execution_count": 3,
      "outputs": []
    },
    {
      "cell_type": "code",
      "metadata": {
        "id": "oVfLImly133Z"
      },
      "source": [
        "from numpy.testing import assert_allclose\n",
        "\n",
        "assert_allclose(-B + D, A)\n",
        "\n",
        "xx = np.linalg.solve(A, b)\n",
        "\n",
        "np.testing.assert_allclose(A @ xx, b)\n",
        "np.testing.assert_allclose(D @ xx, B @ xx + b)\n",
        "np.testing.assert_allclose(xx, BB @ xx + c)"
      ],
      "execution_count": 4,
      "outputs": []
    },
    {
      "cell_type": "code",
      "metadata": {
        "colab": {
          "base_uri": "https://localhost:8080/"
        },
        "id": "xs54uI8mzJyu",
        "outputId": "cc9a2265-b3e0-4798-919a-5ab1de13cac9"
      },
      "source": [
        "np.linalg.norm(BB)"
      ],
      "execution_count": 5,
      "outputs": [
        {
          "output_type": "execute_result",
          "data": {
            "text/plain": [
              "0.36436161983015336"
            ]
          },
          "metadata": {
            "tags": []
          },
          "execution_count": 5
        }
      ]
    },
    {
      "cell_type": "code",
      "metadata": {
        "colab": {
          "base_uri": "https://localhost:8080/"
        },
        "id": "wHV_6XXu1qf8",
        "outputId": "6a79c1b8-56f3-46ce-959e-2c2bfeb44a33"
      },
      "source": [
        "n_iter = 50\n",
        "\n",
        "x0 = np.ones(n)\n",
        "x = x0\n",
        "for _ in range(n_iter):\n",
        "  x = BB @ x + c\n",
        "A @ x - b"
      ],
      "execution_count": 6,
      "outputs": [
        {
          "output_type": "execute_result",
          "data": {
            "text/plain": [
              "array([ 1.11022302e-16,  0.00000000e+00, -2.22044605e-16, -1.11022302e-16,\n",
              "        1.11022302e-16,  0.00000000e+00, -2.42861287e-17,  0.00000000e+00,\n",
              "       -2.77555756e-17,  1.11022302e-16])"
            ]
          },
          "metadata": {
            "tags": []
          },
          "execution_count": 6
        }
      ]
    },
    {
      "cell_type": "code",
      "metadata": {
        "id": "FwNm9mqPzOS8"
      },
      "source": [
        "def jacobi_iteration(A, b, n_iteriter):\n",
        "    \n",
        "    diag_1d = np.diag(A)\n",
        "\n",
        "    B = -A.copy()\n",
        "    np.fill_diagonal(B, 0)\n",
        "\n",
        "    D = np.diag(diag_1d)\n",
        "\n",
        "    D_inv = np.diag(1./diag_1d)\n",
        "    B = D_inv @ B\n",
        "    c = D_inv @ b\n",
        "    \n",
        "    m = A.shape[0]\n",
        "    \n",
        "    x0 = np.ones(m)\n",
        "    \n",
        "    errors = np.zeros(n_iter)\n",
        "    \n",
        "    for i in range(n_iter):\n",
        "        x = B @ x0 + c\n",
        "        delta_x = np.linalg.norm(x - x0)\n",
        "        errors[i] = delta_x\n",
        "        \n",
        "        x0 = x\n",
        "        \n",
        "    return x, B, np.array(errors)"
      ],
      "execution_count": 7,
      "outputs": []
    },
    {
      "cell_type": "code",
      "metadata": {
        "id": "Cvna_qCA2edT"
      },
      "source": [
        "n = 10\n",
        "A = rnd.uniform(size=(n, n))\n",
        "b = rnd.uniform(size=n)"
      ],
      "execution_count": 8,
      "outputs": []
    },
    {
      "cell_type": "code",
      "metadata": {
        "colab": {
          "base_uri": "https://localhost:8080/",
          "height": 408
        },
        "id": "fr8CBXsk2fia",
        "outputId": "71670132-e018-4f47-a56a-648fac898b1e"
      },
      "source": [
        "import matplotlib.pyplot as plt\n",
        "\n",
        "plt.figure(figsize=(8, 6))\n",
        "\n",
        "n_iter = 50\n",
        "\n",
        "for j in range(5):\n",
        "    A_j = A + np.diagflat([j + 3.9]*n)\n",
        "\n",
        "    x, B, errors = jacobi_iteration(A_j, b, n_iter)\n",
        "\n",
        "    iterations = np.arange(1, n_iter + 1)\n",
        "    \n",
        "    plt.plot(iterations, errors, label=r'$||B|| \\approx %s$' % round(np.linalg.norm(B), 2))\n",
        "\n",
        "#plt.title(r'$||x_n - x_{n-1}||$ v.s. $n$')\n",
        "plt.ylabel(r'$||\\mathbf{x_n - x_{n-1}}||$', size=15, labelpad=15)\n",
        "plt.xlabel(r'$n$', size=15, labelpad=15)\n",
        "plt.ylim(0, 10)\n",
        "plt.xlim(1, 30)\n",
        "plt.legend()\n",
        "plt.grid()\n",
        "plt.show()"
      ],
      "execution_count": 9,
      "outputs": [
        {
          "output_type": "display_data",
          "data": {
            "image/png": "[encoded data removed]",
            "text/plain": [
              "<Figure size 576x432 with 1 Axes>"
            ]
          },
          "metadata": {
            "tags": [],
            "needs_background": "light"
          }
        }
      ]
    }
  ]
}