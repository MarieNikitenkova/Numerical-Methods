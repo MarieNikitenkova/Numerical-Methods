{
  "nbformat": 4,
  "nbformat_minor": 0,
  "metadata": {
    "colab": {
      "name": "DZ_4_1.ipynb",
      "provenance": []
    },
    "kernelspec": {
      "name": "python3",
      "display_name": "Python 3"
    }
  },
  "cells": [
    {
      "cell_type": "code",
      "metadata": {
        "id": "RfvvzV26i_Ve"
      },
      "source": [
        "import numpy as np\r\n",
        "import matplotlib.pyplot as plt"
      ],
      "execution_count": 1,
      "outputs": []
    },
    {
      "cell_type": "code",
      "metadata": {
        "id": "y2S9hWbijZBG"
      },
      "source": [
        "n = 1000\r\n",
        "a = np.random.normal(0, 1, (n, n))\r\n",
        "A = a + a.T"
      ],
      "execution_count": 2,
      "outputs": []
    },
    {
      "cell_type": "code",
      "metadata": {
        "colab": {
          "base_uri": "https://localhost:8080/",
          "height": 350
        },
        "id": "QqTi_hDcjpp5",
        "outputId": "df007fc2-6658-4d31-82f4-40e7c1ff29c3"
      },
      "source": [
        "s = np.linalg.eigvalsh(A)\r\n",
        "plt.hist(s)"
      ],
      "execution_count": 3,
      "outputs": [
        {
          "output_type": "execute_result",
          "data": {
            "text/plain": [
              "(array([ 56.,  93., 107., 117., 126., 123., 119., 109.,  89.,  61.]),\n",
              " array([-88.07352907, -70.52194134, -52.97035361, -35.41876589,\n",
              "        -17.86717816,  -0.31559044,  17.23599729,  34.78758502,\n",
              "         52.33917274,  69.89076047,  87.4423482 ]),\n",
              " <a list of 10 Patch objects>)"
            ]
          },
          "metadata": {
            "tags": []
          },
          "execution_count": 3
        },
        {
          "output_type": "display_data",
          "data": {
            "image/png": "[encoded data removed]",
            "text/plain": [
              "<Figure size 432x288 with 1 Axes>"
            ]
          },
          "metadata": {
            "tags": [],
            "needs_background": "light"
          }
        }
      ]
    }
  ]
}