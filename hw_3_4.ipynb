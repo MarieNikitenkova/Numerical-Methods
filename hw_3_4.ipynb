{
  "nbformat": 4,
  "nbformat_minor": 0,
  "metadata": {
    "colab": {
      "name": "hw_3_4.ipynb",
      "provenance": []
    },
    "kernelspec": {
      "name": "python3",
      "display_name": "Python 3"
    }
  },
  "cells": [
    {
      "cell_type": "code",
      "metadata": {
        "id": "EghAQiusJZ4Y"
      },
      "source": [
        "import numpy as np\r\n",
        "A = np.array([[9.5, 8.5, 7.5, 6.5, 5.5, 4.5, 3.5, 2.5, 1.5, 0.5], [1, 1, 1, 1, 1, 1, 1, 1, 1, 1]])\r\n",
        "U, S, V = np.linalg.svd(A)\r\n",
        "a = np.array([1, 0])\r\n",
        "S_ = np.zeros((10, 2))\r\n",
        "for i in range(2):\r\n",
        "  S_[i, i] = 1/S[i]\r\n",
        "f = V.T @ S_ @ U.T @ a"
      ],
      "execution_count": 4,
      "outputs": []
    },
    {
      "cell_type": "code",
      "metadata": {
        "colab": {
          "base_uri": "https://localhost:8080/"
        },
        "id": "YjGLOrwUKvAH",
        "outputId": "42f5d67b-bde7-4310-dc25-ee821deeab48"
      },
      "source": [
        "print(f)"
      ],
      "execution_count": 8,
      "outputs": [
        {
          "output_type": "stream",
          "text": [
            "[ 0.05454545  0.04242424  0.03030303  0.01818182  0.00606061 -0.00606061\n",
            " -0.01818182 -0.03030303 -0.04242424 -0.05454545]\n"
          ],
          "name": "stdout"
        }
      ]
    }
  ]
}