{
  "nbformat": 4,
  "nbformat_minor": 0,
  "metadata": {
    "kernelspec": {
      "display_name": "Python 3",
      "language": "python",
      "name": "python3"
    },
    "language_info": {
      "codemirror_mode": {
        "name": "ipython",
        "version": 3
      },
      "file_extension": ".py",
      "mimetype": "text/x-python",
      "name": "python",
      "nbconvert_exporter": "python",
      "pygments_lexer": "ipython3",
      "version": "3.8.5"
    },
    "colab": {
      "name": "SeidelPoisson_mvnikitenkova.ipynb",
      "provenance": []
    }
  },
  "cells": [
    {
      "cell_type": "markdown",
      "metadata": {
        "id": "SMdTo3kjssgm"
      },
      "source": [
        "Before you turn this problem in, make sure everything runs as expected. First, **restart the kernel** (in the menubar, select Kernel$\\rightarrow$Restart) and then **run all cells** (in the menubar, select Cell$\\rightarrow$Run All).\n",
        "\n",
        "Make sure you fill in any place that says `YOUR CODE HERE` or \"YOUR ANSWER HERE\", as well as your name and collaborators below:"
      ]
    },
    {
      "cell_type": "code",
      "metadata": {
        "id": "zqYpE72bssgt"
      },
      "source": [
        "NAME = \"mvnikienkova\""
      ],
      "execution_count": 11,
      "outputs": []
    },
    {
      "cell_type": "markdown",
      "metadata": {
        "id": "w5YVCIyEssgv"
      },
      "source": [
        "---"
      ]
    },
    {
      "cell_type": "code",
      "metadata": {
        "deletable": false,
        "editable": false,
        "nbgrader": {
          "cell_type": "code",
          "checksum": "82ecff7a3476ffeb1b53c115df234878",
          "grade": false,
          "grade_id": "cell-ed0e89e39ef5b952",
          "locked": true,
          "schema_version": 3,
          "solution": false,
          "task": false
        },
        "id": "xCFvKgaKssgw"
      },
      "source": [
        "import numpy as np\n",
        "from scipy.linalg import block_diag"
      ],
      "execution_count": 12,
      "outputs": []
    },
    {
      "cell_type": "markdown",
      "metadata": {
        "id": "Zurr2HKgssgx"
      },
      "source": [
        "Рассмотрим систему линейных уравнений, матрица правой части которой является \"ленточной\" и имеет следующую структуру: ненулевые элементы расположены на трех центральных диагонялях и на двух \"крыльях\". Матрицы такой структуры возникают, например, при решении задачи на нахождение электростатического потенциала $\\phi(x, y)$, cоздаваемого двумерным распределением заряда $\\rho(x, y)$ при дискретизации на сетке уравнения Пуассона\n",
        "\n",
        "$$\n",
        "\\Delta \\phi = -4\\pi \\rho\\;.\n",
        "$$\n",
        "\n",
        "(детали см. напр. А.А. Самарский, А.В. Гулин, Численные методы, ч. 3 гл. 1, параграф 1).\n",
        "\n",
        "Размер матрицы растет с уменьшением шага сетки $h$ как $O(1/h^2)$. Таким образом, приходится иметь дело с разреженными матрицами огромного размера.\n",
        "\n",
        "Матрицу `m` создадим следующим образом:"
      ]
    },
    {
      "cell_type": "code",
      "metadata": {
        "deletable": false,
        "editable": false,
        "nbgrader": {
          "cell_type": "code",
          "checksum": "49cc83ba22b9baf06a0fd368ebbe0594",
          "grade": false,
          "grade_id": "cell-68787095785b88fa",
          "locked": true,
          "schema_version": 3,
          "solution": false,
          "task": false
        },
        "id": "aE5ZCQ2Ossgy"
      },
      "source": [
        "def lhs_matrix(n):\n",
        "    # Диагональный блок\n",
        "    a = np.zeros((n-1, n-1))\n",
        "\n",
        "    idx = np.arange(n-1)\n",
        "\n",
        "    a[idx, idx] = -4\n",
        "    a[idx[:-1], idx[:-1]+1] = 1\n",
        "    a[idx[1:], idx[1:]-1] = 1\n",
        "\n",
        "    # собираем блочно-диагональную матрицу `m`\n",
        "    m = block_diag(*(a,)*n)\n",
        "\n",
        "    # заполняем \"крылья\"\n",
        "    idx = np.arange(m.shape[0])\n",
        "\n",
        "    m[idx[:-n+1], idx[:-n+1] + n-1] = 1\n",
        "    m[idx[n-1:], idx[n-1:] - n+1] = 1\n",
        "    return m"
      ],
      "execution_count": 13,
      "outputs": []
    },
    {
      "cell_type": "code",
      "metadata": {
        "deletable": false,
        "editable": false,
        "nbgrader": {
          "cell_type": "code",
          "checksum": "02c4a2bb847ac93894a90f04a8bf25f2",
          "grade": false,
          "grade_id": "cell-4c5b195e789944ab",
          "locked": true,
          "schema_version": 3,
          "solution": false,
          "task": false
        },
        "colab": {
          "base_uri": "https://localhost:8080/"
        },
        "id": "2nq7r1vVssgz",
        "outputId": "2cd94681-99d9-40fa-a40e-41b84e8f970c"
      },
      "source": [
        "m = lhs_matrix(5)\n",
        "\n",
        "with np.printoptions(linewidth=99):\n",
        "    print(m)"
      ],
      "execution_count": 14,
      "outputs": [
        {
          "output_type": "stream",
          "text": [
            "[[-4.  1.  0.  0.  1.  0.  0.  0.  0.  0.  0.  0.  0.  0.  0.  0.  0.  0.  0.  0.]\n",
            " [ 1. -4.  1.  0.  0.  1.  0.  0.  0.  0.  0.  0.  0.  0.  0.  0.  0.  0.  0.  0.]\n",
            " [ 0.  1. -4.  1.  0.  0.  1.  0.  0.  0.  0.  0.  0.  0.  0.  0.  0.  0.  0.  0.]\n",
            " [ 0.  0.  1. -4.  0.  0.  0.  1.  0.  0.  0.  0.  0.  0.  0.  0.  0.  0.  0.  0.]\n",
            " [ 1.  0.  0.  0. -4.  1.  0.  0.  1.  0.  0.  0.  0.  0.  0.  0.  0.  0.  0.  0.]\n",
            " [ 0.  1.  0.  0.  1. -4.  1.  0.  0.  1.  0.  0.  0.  0.  0.  0.  0.  0.  0.  0.]\n",
            " [ 0.  0.  1.  0.  0.  1. -4.  1.  0.  0.  1.  0.  0.  0.  0.  0.  0.  0.  0.  0.]\n",
            " [ 0.  0.  0.  1.  0.  0.  1. -4.  0.  0.  0.  1.  0.  0.  0.  0.  0.  0.  0.  0.]\n",
            " [ 0.  0.  0.  0.  1.  0.  0.  0. -4.  1.  0.  0.  1.  0.  0.  0.  0.  0.  0.  0.]\n",
            " [ 0.  0.  0.  0.  0.  1.  0.  0.  1. -4.  1.  0.  0.  1.  0.  0.  0.  0.  0.  0.]\n",
            " [ 0.  0.  0.  0.  0.  0.  1.  0.  0.  1. -4.  1.  0.  0.  1.  0.  0.  0.  0.  0.]\n",
            " [ 0.  0.  0.  0.  0.  0.  0.  1.  0.  0.  1. -4.  0.  0.  0.  1.  0.  0.  0.  0.]\n",
            " [ 0.  0.  0.  0.  0.  0.  0.  0.  1.  0.  0.  0. -4.  1.  0.  0.  1.  0.  0.  0.]\n",
            " [ 0.  0.  0.  0.  0.  0.  0.  0.  0.  1.  0.  0.  1. -4.  1.  0.  0.  1.  0.  0.]\n",
            " [ 0.  0.  0.  0.  0.  0.  0.  0.  0.  0.  1.  0.  0.  1. -4.  1.  0.  0.  1.  0.]\n",
            " [ 0.  0.  0.  0.  0.  0.  0.  0.  0.  0.  0.  1.  0.  0.  1. -4.  0.  0.  0.  1.]\n",
            " [ 0.  0.  0.  0.  0.  0.  0.  0.  0.  0.  0.  0.  1.  0.  0.  0. -4.  1.  0.  0.]\n",
            " [ 0.  0.  0.  0.  0.  0.  0.  0.  0.  0.  0.  0.  0.  1.  0.  0.  1. -4.  1.  0.]\n",
            " [ 0.  0.  0.  0.  0.  0.  0.  0.  0.  0.  0.  0.  0.  0.  1.  0.  0.  1. -4.  1.]\n",
            " [ 0.  0.  0.  0.  0.  0.  0.  0.  0.  0.  0.  0.  0.  0.  0.  1.  0.  0.  1. -4.]]\n"
          ],
          "name": "stdout"
        }
      ]
    },
    {
      "cell_type": "code",
      "metadata": {
        "deletable": false,
        "editable": false,
        "nbgrader": {
          "cell_type": "code",
          "checksum": "d1c92e9be65ac427184fdae9935f7d8f",
          "grade": false,
          "grade_id": "cell-26d617a08fa36eb1",
          "locked": true,
          "schema_version": 3,
          "solution": false,
          "task": false
        },
        "colab": {
          "base_uri": "https://localhost:8080/",
          "height": 292
        },
        "id": "wU9JZBf0ssg0",
        "outputId": "3bb7a667-8cc7-4deb-863d-8cab8360fc2d"
      },
      "source": [
        "import matplotlib.pyplot as plt\n",
        "plt.matshow(m)"
      ],
      "execution_count": 15,
      "outputs": [
        {
          "output_type": "execute_result",
          "data": {
            "text/plain": [
              "<matplotlib.image.AxesImage at 0x7f03a67fabd0>"
            ]
          },
          "metadata": {
            "tags": []
          },
          "execution_count": 15
        },
        {
          "output_type": "display_data",
          "data": {
            "image/png": "[encoded data removed]",
            "text/plain": [
              "<Figure size 288x288 with 1 Axes>"
            ]
          },
          "metadata": {
            "tags": [],
            "needs_background": "light"
          }
        }
      ]
    },
    {
      "cell_type": "markdown",
      "metadata": {
        "deletable": false,
        "editable": false,
        "nbgrader": {
          "cell_type": "markdown",
          "checksum": "c43ce232bdd094d2d8787200e82cd200",
          "grade": false,
          "grade_id": "cell-0810641c405cedb0",
          "locked": true,
          "schema_version": 3,
          "solution": false,
          "task": false
        },
        "id": "0Vhf7GH4ssg1"
      },
      "source": [
        "Зададим вектор правой части системы $b$, символизирующий точечный заряд в центре:"
      ]
    },
    {
      "cell_type": "code",
      "metadata": {
        "deletable": false,
        "editable": false,
        "nbgrader": {
          "cell_type": "code",
          "checksum": "2ee23b7e4631364aa0def6e9025de5fe",
          "grade": false,
          "grade_id": "cell-bdf75cbde3d40c9b",
          "locked": true,
          "schema_version": 3,
          "solution": false,
          "task": false
        },
        "id": "ZU2Z0l2_ssg2"
      },
      "source": [
        "b = np.zeros(m.shape[0])\n",
        "b[m.shape[0]//2] = -1"
      ],
      "execution_count": 16,
      "outputs": []
    },
    {
      "cell_type": "markdown",
      "metadata": {
        "deletable": false,
        "editable": false,
        "nbgrader": {
          "cell_type": "markdown",
          "checksum": "4818e389f558693d56e6bff7518c7d0d",
          "grade": false,
          "grade_id": "cell-3d07f62eb12bf684",
          "locked": true,
          "schema_version": 3,
          "solution": false,
          "task": false
        },
        "id": "snU81f8lssg3"
      },
      "source": [
        "Составьте функцию, вычисляющую решение системы уравнений $m x = b$ **методом Зейделя** с заданной точностью $\\epsilon$.\n",
        "\n",
        "Не пользуйтесь функциями `np.linalg.solve`, `np.linalg.inv` и т.п. Обратите внимание на функции `np.triu` и `scipy.linalg.solve_triangular`."
      ]
    },
    {
      "cell_type": "code",
      "metadata": {
        "deletable": false,
        "nbgrader": {
          "cell_type": "code",
          "checksum": "386955466ee6d63226201a37e3c5f0e8",
          "grade": false,
          "grade_id": "cell-d3e0976736f7d3f0",
          "locked": false,
          "schema_version": 3,
          "solution": true,
          "task": false
        },
        "id": "N9Z2IjKTssg4"
      },
      "source": [
        "from scipy.linalg import solve_triangular\n",
        "\n",
        "def seidel_solve(m, b, x0, eps=1e-5, maxiter=500):\n",
        "    \"\"\" Solve `m @ x = b` with Seidel iteration.\n",
        "    \n",
        "    Parameters\n",
        "    ----------\n",
        "    m : ndarray, shape (n, n)\n",
        "       Input matrix\n",
        "    b : ndarray, shape (n,)\n",
        "       Right-hand side\n",
        "    x0 : ndarray, shape (n, )\n",
        "       Initial point for the iteration\n",
        "    eps : float, optional\n",
        "       Target accuracy.\n",
        "       Stop iterations when the 2-norm of \n",
        "       `|x_k - x_{k-1}| < eps`\n",
        "    maxiter : int\n",
        "       Maximum allowed number of iterations.\n",
        "       \n",
        "    Returns\n",
        "    -------\n",
        "    x : ndarray, shape (n,)\n",
        "       The approximation to the solution of `m @ x = b`\n",
        "    nit : the number of iterations performed.\n",
        "    \"\"\"\n",
        "    diag_1d = np.diag(m)\n",
        "    \n",
        "    invD = np.diag(1./diag_1d)\n",
        "    L = np.tril(m, k=-1)\n",
        "    U = np.triu(m, k=1)\n",
        "    \n",
        "    B = invD @ -(L + U)\n",
        "    \n",
        "    n = m.shape[0]\n",
        "    nit = 0\n",
        "    for it in range(maxiter):\n",
        "        x = np.zeros(n)\n",
        "        for i in range(n):\n",
        "            x[i] = ( b[i] - m[i, :i] @ x[:i] - m[i, i+1:] @ x0[i+1:] ) / m[i, i]\n",
        "        nit = it\n",
        "        \n",
        "        x0 = x\n",
        "    \n",
        "    return x, nit"
      ],
      "execution_count": 17,
      "outputs": []
    },
    {
      "cell_type": "code",
      "metadata": {
        "deletable": false,
        "editable": false,
        "nbgrader": {
          "cell_type": "code",
          "checksum": "397e5092e4bf5d9b1dcbb011ea82c008",
          "grade": true,
          "grade_id": "cell-8f5b96cfad0e18d7",
          "locked": true,
          "points": 15,
          "schema_version": 3,
          "solution": false,
          "task": false
        },
        "id": "Gfnpk8rMssg8"
      },
      "source": [
        "m = lhs_matrix(n=6)\n",
        "b = np.zeros(m.shape[0])\n",
        "b[b.size//2] = 1\n",
        "\n",
        "x0 = np.ones(m.shape[0])\n",
        "x, nit = seidel_solve(m, b, x0)\n",
        "\n",
        "from numpy.testing import assert_allclose\n",
        "assert_allclose(x,\n",
        "                np.linalg.solve(m, b), atol=2e-5)\n"
      ],
      "execution_count": 9,
      "outputs": []
    },
    {
      "cell_type": "markdown",
      "metadata": {
        "deletable": false,
        "editable": false,
        "nbgrader": {
          "cell_type": "markdown",
          "checksum": "1df4e606a0bc3490f652daf5226d0c33",
          "grade": false,
          "grade_id": "cell-76a3476cfd72af3b",
          "locked": true,
          "schema_version": 3,
          "solution": false,
          "task": false
        },
        "id": "zzd5LxvZssg9"
      },
      "source": [
        "Прокомментируйте зависимость числа итераций, требуемых для достижения заданной точности, от $\\epsilon$. (без оценки)"
      ]
    },
    {
      "cell_type": "code",
      "metadata": {
        "id": "Alm-0kJttsaz"
      },
      "source": [
        "## Your code here"
      ],
      "execution_count": null,
      "outputs": []
    },
    {
      "cell_type": "code",
      "metadata": {
        "colab": {
          "base_uri": "https://localhost:8080/",
          "height": 282
        },
        "id": "RxQUyiSrssg_",
        "outputId": "31cdf893-e505-4b1e-b3e4-8b733d80875d"
      },
      "source": [
        "# Постройте график решения как функцию индекса компоненты вектора. \n",
        "# Прокомментируйте характер зависимости (без оценки).\n",
        "plt.plot(x, 'o-')"
      ],
      "execution_count": 10,
      "outputs": [
        {
          "output_type": "execute_result",
          "data": {
            "text/plain": [
              "[<matplotlib.lines.Line2D at 0x7f03a689acd0>]"
            ]
          },
          "metadata": {
            "tags": []
          },
          "execution_count": 10
        },
        {
          "output_type": "display_data",
          "data": {
            "image/png": "[encoded data removed]",
            "text/plain": [
              "<Figure size 432x288 with 1 Axes>"
            ]
          },
          "metadata": {
            "tags": [],
            "needs_background": "light"
          }
        }
      ]
    }
  ]
}