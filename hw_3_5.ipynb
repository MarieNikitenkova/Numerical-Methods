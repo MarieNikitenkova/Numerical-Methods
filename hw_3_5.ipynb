{
  "nbformat": 4,
  "nbformat_minor": 0,
  "metadata": {
    "colab": {
      "name": "hw_3_5.ipynb",
      "provenance": []
    },
    "kernelspec": {
      "name": "python3",
      "display_name": "Python 3"
    }
  },
  "cells": [
    {
      "cell_type": "code",
      "metadata": {
        "id": "elnf6y5wP-_v"
      },
      "source": [
        "import numpy as np\r\n",
        "import math"
      ],
      "execution_count": 6,
      "outputs": []
    },
    {
      "cell_type": "code",
      "metadata": {
        "colab": {
          "base_uri": "https://localhost:8080/"
        },
        "id": "F45m0MN4QURa",
        "outputId": "7d61197f-f48b-4f6d-af0e-a94feacf991a"
      },
      "source": [
        "c = np.array([[1, 0.9, 0.7],[0.9, 1, 0.4],[0.7, 0.4, 1]])\r\n",
        "c_ = c.copy()\r\n",
        "c_[1][2] = 0.3\r\n",
        "c_[2][1] = 0.3\r\n",
        "lam = np.linalg.eig(c_)[0]\r\n",
        "S = np.linalg.eig(c_)[1]\r\n",
        "print(lam)\r\n",
        "print(S)"
      ],
      "execution_count": 8,
      "outputs": [
        {
          "output_type": "stream",
          "text": [
            "[ 2.29672779 -0.00735244  0.71062465]\n",
            "[[ 0.65991684  0.74767038 -0.0741536 ]\n",
            " [ 0.57099598 -0.5632171  -0.5972856 ]\n",
            " [ 0.48833733 -0.35181742  0.79859323]]\n"
          ],
          "name": "stdout"
        }
      ]
    },
    {
      "cell_type": "code",
      "metadata": {
        "colab": {
          "base_uri": "https://localhost:8080/"
        },
        "id": "5Luwm8zYOmFV",
        "outputId": "c0183d9f-fb0b-4c1d-bea8-1a9a6ba1102f"
      },
      "source": [
        "lam[1] = 0\r\n",
        "s = S.T\r\n",
        "for j in range(3):\r\n",
        "  s[j] = s[j] * math.sqrt(lam[j])\r\n",
        "print(s)"
      ],
      "execution_count": 10,
      "outputs": [
        {
          "output_type": "stream",
          "text": [
            "[[ 1.51564936  1.31142234  1.12157791]\n",
            " [ 0.         -0.         -0.        ]\n",
            " [-0.05269537 -0.42444587  0.56750004]]\n"
          ],
          "name": "stdout"
        }
      ]
    },
    {
      "cell_type": "code",
      "metadata": {
        "colab": {
          "base_uri": "https://localhost:8080/"
        },
        "id": "sN1KwEBEPGle",
        "outputId": "add64b0e-b1f3-4c31-9f37-1e6346f1248f"
      },
      "source": [
        "s = s.T\r\n",
        "for i in range(3):\r\n",
        "  n = s[i, 0] ** 2 + s[i, 1] ** 2 + s[i, 2] ** 2\r\n",
        "  if n != 0:\r\n",
        "    s[i] = s[i] * (1/math.sqrt(n))\r\n",
        "    \r\n",
        "c_1 = s.dot(s.T)\r\n",
        "print(c_1)"
      ],
      "execution_count": 11,
      "outputs": [
        {
          "output_type": "stream",
          "text": [
            "[[1.         0.96153494 0.87605522]\n",
            " [0.96153494 1.         0.70990276]\n",
            " [0.87605522 0.70990276 1.        ]]\n"
          ],
          "name": "stdout"
        }
      ]
    },
    {
      "cell_type": "markdown",
      "metadata": {
        "id": "1s9a6F1hT--5"
      },
      "source": [
        "При замене отрицательных собственных значений на нули и смене базиса обратно на i, j, k, мы можем вынести из диагональной матрицы с собственными значениями на диагонали эти собсвтенные значения и в итоге получить единичную матрицу."
      ]
    }
  ]
}