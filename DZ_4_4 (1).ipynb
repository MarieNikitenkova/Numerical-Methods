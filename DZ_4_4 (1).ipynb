{
  "nbformat": 4,
  "nbformat_minor": 0,
  "metadata": {
    "colab": {
      "name": "DZ_4_4.ipynb",
      "provenance": []
    },
    "kernelspec": {
      "name": "python3",
      "display_name": "Python 3"
    }
  },
  "cells": [
    {
      "cell_type": "code",
      "metadata": {
        "id": "8YCdmNuOTdYX"
      },
      "source": [
        "import numpy as np\r\n",
        "import random"
      ],
      "execution_count": 1,
      "outputs": []
    },
    {
      "cell_type": "code",
      "metadata": {
        "colab": {
          "base_uri": "https://localhost:8080/"
        },
        "id": "yPj7JQsFTs1a",
        "outputId": "a7881a96-e981-46ee-edd3-f19ec82b3e51"
      },
      "source": [
        "n = 100\r\n",
        "D = np.identity(n)\r\n",
        "for i in range(n):\r\n",
        "  D[i, i] = random.random()\r\n",
        "print(D)\r\n",
        "u = np.random.rand(n)\r\n",
        "print(u)"
      ],
      "execution_count": 2,
      "outputs": [
        {
          "output_type": "stream",
          "text": [
            "[[0.7728712  0.         0.         ... 0.         0.         0.        ]\n",
            " [0.         0.15484164 0.         ... 0.         0.         0.        ]\n",
            " [0.         0.         0.1818467  ... 0.         0.         0.        ]\n",
            " ...\n",
            " [0.         0.         0.         ... 0.82926862 0.         0.        ]\n",
            " [0.         0.         0.         ... 0.         0.24670359 0.        ]\n",
            " [0.         0.         0.         ... 0.         0.         0.31436429]]\n",
            "[0.50182503 0.43716267 0.48405955 0.05885692 0.87436384 0.41813911\n",
            " 0.39675969 0.4407038  0.57054638 0.07341563 0.36747134 0.27590822\n",
            " 0.49797869 0.33427699 0.19480525 0.89444318 0.31826228 0.06853825\n",
            " 0.78751956 0.41142427 0.94338245 0.94529419 0.70188008 0.81594444\n",
            " 0.79353063 0.46976168 0.87517563 0.14824499 0.76923495 0.11308288\n",
            " 0.21118993 0.94299429 0.83074373 0.60072077 0.81852922 0.88602465\n",
            " 0.60953076 0.33686968 0.21449653 0.17183747 0.84069476 0.06035627\n",
            " 0.50341923 0.05065981 0.34735467 0.46283172 0.82561851 0.08246383\n",
            " 0.79188267 0.941505   0.16479866 0.59775494 0.47778376 0.56256198\n",
            " 0.64346939 0.82439139 0.3676537  0.79839388 0.99534626 0.00691728\n",
            " 0.59172218 0.50240388 0.27039009 0.21526381 0.72614122 0.99276457\n",
            " 0.19420794 0.25951305 0.44891085 0.337947   0.26645294 0.54098141\n",
            " 0.20006897 0.30823859 0.46920272 0.91497799 0.37872472 0.36975863\n",
            " 0.22011234 0.5033516  0.90650886 0.32032266 0.61443144 0.30366845\n",
            " 0.56663405 0.09152909 0.4715905  0.32727366 0.65111784 0.7768119\n",
            " 0.89850399 0.4333282  0.05536371 0.40723477 0.99881334 0.12494504\n",
            " 0.86968839 0.38037521 0.17175563 0.90597589]\n"
          ],
          "name": "stdout"
        }
      ]
    },
    {
      "cell_type": "code",
      "metadata": {
        "colab": {
          "base_uri": "https://localhost:8080/"
        },
        "id": "1HEHh6oPT0IJ",
        "outputId": "150b9ea8-d89a-43f1-9bbb-5fd452192517"
      },
      "source": [
        "u_t = u.reshape(n, 1)\r\n",
        "print(u_t.shape)\r\n",
        "u_ = u.reshape(1, n)\r\n",
        "print(u_.shape)"
      ],
      "execution_count": 3,
      "outputs": [
        {
          "output_type": "stream",
          "text": [
            "(100, 1)\n",
            "(1, 100)\n"
          ],
          "name": "stdout"
        }
      ]
    },
    {
      "cell_type": "code",
      "metadata": {
        "colab": {
          "base_uri": "https://localhost:8080/"
        },
        "id": "oA3V-zsuT1E3",
        "outputId": "7dd3bbed-7c2b-4e44-a5c7-57090963769f"
      },
      "source": [
        "A = D + (u_t @ u_)/(u_ @ u_t)\r\n",
        "s = np.sort(np.diag(D))\r\n",
        "print(s)"
      ],
      "execution_count": 4,
      "outputs": [
        {
          "output_type": "stream",
          "text": [
            "[0.00810533 0.01213309 0.016486   0.02197672 0.02340981 0.06984899\n",
            " 0.07024564 0.07585204 0.07837962 0.09531912 0.09632132 0.10009039\n",
            " 0.10929001 0.13399823 0.1453739  0.15484164 0.1565251  0.15849085\n",
            " 0.1702049  0.18041443 0.1818467  0.18533692 0.19492484 0.20156927\n",
            " 0.21114627 0.23235368 0.24670359 0.26293303 0.26870006 0.27912912\n",
            " 0.2847465  0.30000428 0.31436429 0.31781573 0.33679207 0.3420987\n",
            " 0.35985371 0.37483054 0.38505861 0.41605667 0.42516626 0.43817866\n",
            " 0.44054366 0.44511018 0.44717888 0.4599186  0.48417353 0.48443528\n",
            " 0.50284329 0.50309739 0.52498924 0.52667943 0.52727241 0.53998619\n",
            " 0.54181778 0.54234089 0.55890789 0.55943368 0.579142   0.58174306\n",
            " 0.58240093 0.58243288 0.59645342 0.60824488 0.63924005 0.64146824\n",
            " 0.64277041 0.64380277 0.66627039 0.69070907 0.69595822 0.70565541\n",
            " 0.7089952  0.73172869 0.74242387 0.74772488 0.75375437 0.76759755\n",
            " 0.76787124 0.7728712  0.78961907 0.80563223 0.8072398  0.81546859\n",
            " 0.82408097 0.82926862 0.84223388 0.84895854 0.85239954 0.8721798\n",
            " 0.87971719 0.89567423 0.90570199 0.90898148 0.91688179 0.9232071\n",
            " 0.92431256 0.93359977 0.9532232  0.95541137]\n"
          ],
          "name": "stdout"
        }
      ]
    },
    {
      "cell_type": "code",
      "metadata": {
        "id": "BqJetu8PT3WH"
      },
      "source": [
        "def norm(v):\r\n",
        " return np.sqrt(np.sum(v**2))\r\n",
        "def inverse_iter(a, vec, mu, eps=1e-3, maxiter=1000):\r\n",
        " a = np.asarray(a, dtype=float)\r\n",
        " if a.ndim != 2:\r\n",
        "  raise ValueError(\"a.ndim = %s, expected 2\" % a.ndim)\r\n",
        "\r\n",
        " vec = np.asarray(vec, dtype=float)\r\n",
        " if vec.ndim != 1:\r\n",
        "  raise ValueError(\"vec.ndim = %s, expected 1\" % vec.ndim)\r\n",
        "\r\n",
        " if (a.shape[0] != a.shape[1]):\r\n",
        "  raise ValueError(\"a is not square\")\r\n",
        "\r\n",
        " if (a.shape[0] != vec.shape[0]):\r\n",
        "  raise ValueError(\"vec should be of length %s\" % a.shape[0])\r\n",
        "\r\n",
        "\r\n",
        " x = np.array(vec, dtype=float, copy = True)\r\n",
        " lam = mu\r\n",
        " iters = 0\r\n",
        "\r\n",
        " for i in range(maxiter):\r\n",
        "  y = np.linalg.solve(a - lam * np.identity(a.shape[0]), x)\r\n",
        "  lam_pr = lam\r\n",
        "  lam = x @ (a @ x)\r\n",
        "  x = y / norm(y)\r\n",
        "  iters = i\r\n",
        "  if(abs(lam - lam_pr) < eps):\r\n",
        "    break;\r\n",
        " \r\n",
        " return(lam, x, iters)"
      ],
      "execution_count": 5,
      "outputs": []
    },
    {
      "cell_type": "code",
      "metadata": {
        "colab": {
          "base_uri": "https://localhost:8080/"
        },
        "id": "LzRjMNkEUMN9",
        "outputId": "96d92b65-7f01-4c07-910b-e30fd361ad3a"
      },
      "source": [
        "vec = np.random.rand(n)\r\n",
        "lam, x, _ = inverse_iter(A, vec, 0.0089)\r\n",
        "print(lam)"
      ],
      "execution_count": 6,
      "outputs": [
        {
          "output_type": "stream",
          "text": [
            "0.012749995229181141\n"
          ],
          "name": "stdout"
        }
      ]
    },
    {
      "cell_type": "code",
      "metadata": {
        "colab": {
          "base_uri": "https://localhost:8080/"
        },
        "id": "xQSKdSuTUM26",
        "outputId": "61147876-4646-4d88-9641-3a32a136f6b8"
      },
      "source": [
        "n = 10000 #для 100000 у меня не выдерживает ноутбук\r\n",
        "D = np.identity(n)\r\n",
        "for i in range(n):\r\n",
        "  D[i, i] = random.random()\r\n",
        "print(D)\r\n",
        "u = np.random.rand(n)\r\n",
        "print(u)"
      ],
      "execution_count": 7,
      "outputs": [
        {
          "output_type": "stream",
          "text": [
            "[[0.91932066 0.         0.         ... 0.         0.         0.        ]\n",
            " [0.         0.16940598 0.         ... 0.         0.         0.        ]\n",
            " [0.         0.         0.44888464 ... 0.         0.         0.        ]\n",
            " ...\n",
            " [0.         0.         0.         ... 0.68355254 0.         0.        ]\n",
            " [0.         0.         0.         ... 0.         0.67005402 0.        ]\n",
            " [0.         0.         0.         ... 0.         0.         0.41246668]]\n",
            "[0.89020632 0.14236112 0.10547346 ... 0.20802988 0.05014866 0.45094919]\n"
          ],
          "name": "stdout"
        }
      ]
    },
    {
      "cell_type": "code",
      "metadata": {
        "colab": {
          "base_uri": "https://localhost:8080/"
        },
        "id": "8odWXat1UT5l",
        "outputId": "f7a6e8d1-5607-4821-91a0-b97b92012066"
      },
      "source": [
        "u_t = u.reshape(n, 1)\r\n",
        "u_ = u.reshape(1, n)\r\n",
        "A = D + (u_t @ u_)/(u_ @ u_t)\r\n",
        "\r\n",
        "s = np.sort(np.diag(D))\r\n",
        "print(s)\r\n",
        "print(s[-1])\r\n"
      ],
      "execution_count": 8,
      "outputs": [
        {
          "output_type": "stream",
          "text": [
            "[4.84345590e-05 7.36684056e-05 9.25354858e-05 ... 9.99908868e-01\n",
            " 9.99929429e-01 9.99994996e-01]\n",
            "0.9999949955709302\n"
          ],
          "name": "stdout"
        }
      ]
    },
    {
      "cell_type": "code",
      "metadata": {
        "colab": {
          "base_uri": "https://localhost:8080/"
        },
        "id": "ZU0svqU0Ugem",
        "outputId": "8f568e8b-8a1f-4889-c93f-05b9c3b4e2c0"
      },
      "source": [
        "A_ = A - np.identity(n)\r\n",
        "print(np.diag(A_))"
      ],
      "execution_count": 9,
      "outputs": [
        {
          "output_type": "stream",
          "text": [
            "[-0.08043913 -0.83058788 -0.55111199 ... -0.31643434 -0.32994522\n",
            " -0.58747168]\n"
          ],
          "name": "stdout"
        }
      ]
    },
    {
      "cell_type": "code",
      "metadata": {
        "colab": {
          "base_uri": "https://localhost:8080/"
        },
        "id": "dv4zVI_pUnAl",
        "outputId": "73c0a892-79c2-45ee-a82f-6d8e6d8c9e62"
      },
      "source": [
        "x = np.array([1] * n)\r\n",
        "mod = norm(u)\r\n",
        "lam = 10000000\r\n",
        "for i in range(1000):\r\n",
        "  k = np.zeros(n)\r\n",
        "  for j in range(n):\r\n",
        "    k[j] = x[j] * (D[j, j] - 1)\r\n",
        "  y = k + (u_t @ u_)/(u_ @ u_t) @ x\r\n",
        "  lam_pr = lam\r\n",
        "  lam = x @ y\r\n",
        "  x = y / norm(y)\r\n",
        "  if(abs(lam - lam_pr) < 1e-4):\r\n",
        "    break\r\n",
        "\r\n",
        "print(lam)\r\n",
        "print(lam + 1)"
      ],
      "execution_count": 10,
      "outputs": [
        {
          "output_type": "stream",
          "text": [
            "-0.9938137940362666\n",
            "0.006186205963733427\n"
          ],
          "name": "stdout"
        }
      ]
    }
  ]
}