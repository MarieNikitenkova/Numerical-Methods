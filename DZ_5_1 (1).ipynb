{
  "nbformat": 4,
  "nbformat_minor": 0,
  "metadata": {
    "colab": {
      "name": "DZ_5_1.ipynb",
      "provenance": [],
      "collapsed_sections": []
    },
    "kernelspec": {
      "name": "python3",
      "display_name": "Python 3"
    },
    "language_info": {
      "name": "python"
    }
  },
  "cells": [
    {
      "cell_type": "code",
      "metadata": {
        "id": "No3hP1Q6heKU"
      },
      "source": [
        "import math"
      ],
      "execution_count": 1,
      "outputs": []
    },
    {
      "cell_type": "code",
      "metadata": {
        "colab": {
          "base_uri": "https://localhost:8080/"
        },
        "id": "yvFYx1A8hikz",
        "outputId": "9fe31033-8ebd-48b4-d8b4-ee85e53821c7"
      },
      "source": [
        "x = 1\n",
        "for i in range(100):\n",
        "  x = x + (math.cos(x) + 1)/(math.sin(x))\n",
        "print(x)"
      ],
      "execution_count": 2,
      "outputs": [
        {
          "output_type": "stream",
          "text": [
            "3.14159264636329\n"
          ],
          "name": "stdout"
        }
      ]
    },
    {
      "cell_type": "code",
      "metadata": {
        "colab": {
          "base_uri": "https://localhost:8080/"
        },
        "id": "3AbEtEOfh0cg",
        "outputId": "15d82441-e5b2-4022-806e-2461d9b2054c"
      },
      "source": [
        "x = 1\n",
        "for i in range(100):\n",
        "  x = 0.5 * (x + 2/x)\n",
        "print(x)"
      ],
      "execution_count": 3,
      "outputs": [
        {
          "output_type": "stream",
          "text": [
            "1.414213562373095\n"
          ],
          "name": "stdout"
        }
      ]
    }
  ]
}