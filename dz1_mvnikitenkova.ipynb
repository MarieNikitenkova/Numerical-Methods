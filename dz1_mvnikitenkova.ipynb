{
  "nbformat": 4,
  "nbformat_minor": 0,
  "metadata": {
    "colab": {
      "name": "dz1_mvnikitenkova.ipynb",
      "provenance": []
    },
    "kernelspec": {
      "name": "python3",
      "display_name": "Python 3"
    }
  },
  "cells": [
    {
      "cell_type": "markdown",
      "metadata": {
        "id": "N0b5fxKvnnLP"
      },
      "source": [
        "## Никитенкова Мария БПМ181"
      ]
    },
    {
      "cell_type": "markdown",
      "metadata": {
        "id": "HFfXbRu2E_7q"
      },
      "source": [
        "## **Задание 1**\r\n",
        "\r\n",
        "\r\n",
        "1. In(a)=1/n-a*In-1(a)\r\n",
        "2. I0(а) = ln(1+1/a)\r\n",
        "3. Чтобы вычислить прямой рекурсией значения I25(0.1) и I25(10) буде использовать начальное значение из пункта 2. Для обратной рекурсии будем считать, что I50 = 0, потому что интеграл стремится к 0 при больших n. \r\n",
        "\r\n",
        "\r\n",
        "\r\n"
      ]
    },
    {
      "cell_type": "code",
      "metadata": {
        "id": "rVjwxWe6JJP4"
      },
      "source": [
        "from math import log\r\n",
        "\r\n",
        "def rec_straight(a,n): #прямая рекурсия\r\n",
        "  i = log(a + 1) - log(a)\r\n",
        "  for k in range(1, n+1):\r\n",
        "    i = 1/k -a*i\r\n",
        "  return i\r\n",
        "\r\n",
        "def rec_back(a,n): #обратная рекурсия\r\n",
        "  i = 0\r\n",
        "  for k in range(50, n+1, -1):\r\n",
        "    i = (1/k -i) / a\r\n",
        "  return i"
      ],
      "execution_count": 8,
      "outputs": []
    },
    {
      "cell_type": "code",
      "metadata": {
        "colab": {
          "base_uri": "https://localhost:8080/"
        },
        "id": "QlBQYrr7KHRR",
        "outputId": "db2c63a8-3501-4422-f3ec-6b4efa52eb46"
      },
      "source": [
        "rec_straight(0.1, 25)"
      ],
      "execution_count": 9,
      "outputs": [
        {
          "output_type": "execute_result",
          "data": {
            "text/plain": [
              "0.03622697090911682"
            ]
          },
          "metadata": {
            "tags": []
          },
          "execution_count": 9
        }
      ]
    },
    {
      "cell_type": "code",
      "metadata": {
        "colab": {
          "base_uri": "https://localhost:8080/"
        },
        "id": "HZXsq8LvKN8A",
        "outputId": "28198530-499c-43ad-a6be-0059944a149f"
      },
      "source": [
        "rec_straight(10, 25)"
      ],
      "execution_count": 10,
      "outputs": [
        {
          "output_type": "execute_result",
          "data": {
            "text/plain": [
              "916988169.5363449"
            ]
          },
          "metadata": {
            "tags": []
          },
          "execution_count": 10
        }
      ]
    },
    {
      "cell_type": "code",
      "metadata": {
        "colab": {
          "base_uri": "https://localhost:8080/"
        },
        "id": "MhIQOSLdKQaa",
        "outputId": "11dfc6ad-f270-4cb7-dcd6-ef0e89eb7d2d"
      },
      "source": [
        "rec_back(0.1, 25)"
      ],
      "execution_count": 11,
      "outputs": [
        {
          "output_type": "execute_result",
          "data": {
            "text/plain": [
              "-1.8148212719543063e+22"
            ]
          },
          "metadata": {
            "tags": []
          },
          "execution_count": 11
        }
      ]
    },
    {
      "cell_type": "code",
      "metadata": {
        "colab": {
          "base_uri": "https://localhost:8080/"
        },
        "id": "_o1Z5mM_KSnG",
        "outputId": "095811da-febb-4a6d-a6a7-ca7dabb32759"
      },
      "source": [
        "rec_back(10, 25)"
      ],
      "execution_count": 12,
      "outputs": [
        {
          "output_type": "execute_result",
          "data": {
            "text/plain": [
              "0.003378004364718689"
            ]
          },
          "metadata": {
            "tags": []
          },
          "execution_count": 12
        }
      ]
    },
    {
      "cell_type": "markdown",
      "metadata": {
        "id": "jkIEw1qnFIWr"
      },
      "source": [
        "При а=0.1 в прямой рекурсии ошибка каждый раз умножалась на число меньшее 1, т.е. она стремилась к 0, а в обратной рекурсии на каждом шагу она умножалась на 10, это видно из отрицательного результата. При а=10 все наоброт, обратная рекурсия дала более верный результат, так как ошибка каждый раз делилась на 10, в случае прямой рекурсии она умножалась, увеличивалась."
      ]
    },
    {
      "cell_type": "markdown",
      "metadata": {
        "id": "0T6R7fw0MAXI"
      },
      "source": [
        "## **Задание 4**"
      ]
    },
    {
      "cell_type": "code",
      "metadata": {
        "id": "oS1SXpdQMLft"
      },
      "source": [
        "import math \r\n",
        "def round_n(x,n):\r\n",
        "  if x==0:\r\n",
        "    return x\r\n",
        "  else:\r\n",
        "    return round(x, -int(math.floor(math.log10(abs(x))))+(n-1))"
      ],
      "execution_count": 15,
      "outputs": []
    },
    {
      "cell_type": "code",
      "metadata": {
        "colab": {
          "base_uri": "https://localhost:8080/"
        },
        "id": "a3I2SNLpNUVw",
        "outputId": "88f21a88-1f6b-4ac1-cf4a-d35cb2a05238"
      },
      "source": [
        "res = 0\r\n",
        "for i in range(1, 3001):\r\n",
        "  res = round_n(res+(1/i**2), 4)\r\n",
        "  \r\n",
        "print(res)"
      ],
      "execution_count": 16,
      "outputs": [
        {
          "output_type": "stream",
          "text": [
            "1.624\n"
          ],
          "name": "stdout"
        }
      ]
    },
    {
      "cell_type": "markdown",
      "metadata": {
        "id": "8XbG6XxvNWHh"
      },
      "source": [
        "С некоторого момента 1/n^2 становится меньше еденицы последнего разряда суммы, то есть при округлении вовсе отбрасывается, поэтому имеем всего 2 значащие цифры. Чтобы получить улучшенный результат начнем суммирование с младших разрядов."
      ]
    },
    {
      "cell_type": "code",
      "metadata": {
        "colab": {
          "base_uri": "https://localhost:8080/"
        },
        "id": "NIR6FjOdNVPg",
        "outputId": "73440a02-9ad3-4d0a-b58e-b234660f1de6"
      },
      "source": [
        "res = 0\r\n",
        "for i in range(3000, 0, -1):\r\n",
        "  res = round_n(res+(1/i**2), 4)\r\n",
        "  \r\n",
        "print(res)"
      ],
      "execution_count": 17,
      "outputs": [
        {
          "output_type": "stream",
          "text": [
            "1.645\n"
          ],
          "name": "stdout"
        }
      ]
    },
    {
      "cell_type": "markdown",
      "metadata": {
        "id": "thbFRmGoOfBq"
      },
      "source": [
        "## **Задание 5**"
      ]
    },
    {
      "cell_type": "code",
      "metadata": {
        "colab": {
          "base_uri": "https://localhost:8080/"
        },
        "id": "a19xjAExOpGP",
        "outputId": "e92b0a33-f0db-4024-8c00-3647aa6272a3"
      },
      "source": [
        "m1 = 40e4\r\n",
        "e1 = 0.05e4\r\n",
        "m2 = 30e4\r\n",
        "e2 = 0.1e4\r\n",
        "r = 3.2\r\n",
        "e3 = 0.01\r\n",
        "G = 6.67e-11\r\n",
        "print(m1, e1, m2, e2, r, e3)"
      ],
      "execution_count": 32,
      "outputs": [
        {
          "output_type": "stream",
          "text": [
            "400000.0 500.0 300000.0 1000.0 3.2 0.01\n"
          ],
          "name": "stdout"
        }
      ]
    },
    {
      "cell_type": "code",
      "metadata": {
        "id": "iUJH1j5FP0uP"
      },
      "source": [
        "from numpy.random import normal # создаем набор данных\r\n",
        "coll = []\r\n",
        "for i in range(100000):\r\n",
        "  M1 = normal(m1, e1)\r\n",
        "  M2 = normal(m2, e2)\r\n",
        "  R = normal(r, e3)\r\n",
        "  F = (G * M1 * M2) / R ** 2\r\n",
        "  coll.append(F)"
      ],
      "execution_count": 33,
      "outputs": []
    },
    {
      "cell_type": "code",
      "metadata": {
        "colab": {
          "base_uri": "https://localhost:8080/"
        },
        "id": "0o29q7-hP7jr",
        "outputId": "67911cd8-b0e4-4ec0-ce8a-047bd1d0ffac"
      },
      "source": [
        "F_mean = G * m1 * m2 / r ** 2\r\n",
        "F_error = abs(G * m2 * e1 / r ** 2) + abs(G * m1 * e2 / r ** 2) + abs( - 2 * G * m1 * m2 * e3 / r ** 3)\r\n",
        "F_dev = (G * m2 * e1 / r ** 2) ** 2 + (G * m1 * e2 / r ** 2) ** 2 + ( - 2 * G * m1 * m2 * e3 / r ** 3) ** 2\r\n",
        "print(\"F = \", round(F_mean, 5), \"+-\", round(F_error, 5))\r\n",
        "print(\"F_dev = \", round(F_dev, 7))"
      ],
      "execution_count": 34,
      "outputs": [
        {
          "output_type": "stream",
          "text": [
            "F =  0.78164 +- 0.00847\n",
            "F_dev =  3.16e-05\n"
          ],
          "name": "stdout"
        }
      ]
    },
    {
      "cell_type": "code",
      "metadata": {
        "colab": {
          "base_uri": "https://localhost:8080/",
          "height": 265
        },
        "id": "Gjw6GrO2QAEF",
        "outputId": "3d3e75b8-1418-4544-c3b5-b7b32d020969"
      },
      "source": [
        "import numpy as np\r\n",
        "import matplotlib.pyplot as plt\r\n",
        "from scipy.stats import norm\r\n",
        "import math\r\n",
        "plt.hist(coll, range = (0.75, 0.81), bins = 20, density = True)\r\n",
        "mu = F_mean\r\n",
        "variance = F_dev\r\n",
        "sigma = math.sqrt(variance)\r\n",
        "x = np.linspace(mu - 3*sigma, mu + 3*sigma, 100)\r\n",
        "plt.plot(x, norm.pdf(x, mu, sigma))\r\n",
        "plt.show()"
      ],
      "execution_count": 35,
      "outputs": [
        {
          "output_type": "display_data",
          "data": {
            "image/png": "[encoded data removed]",
            "text/plain": [
              "<Figure size 432x288 with 1 Axes>"
            ]
          },
          "metadata": {
            "tags": [],
            "needs_background": "light"
          }
        }
      ]
    },
    {
      "cell_type": "code",
      "metadata": {
        "id": "vNeexu6rQD9W"
      },
      "source": [
        "e1_ = 2e4\r\n",
        "e2_ = 10e4\r\n",
        "e3_ = 1"
      ],
      "execution_count": 36,
      "outputs": []
    },
    {
      "cell_type": "code",
      "metadata": {
        "id": "26imlwihQGsB"
      },
      "source": [
        "coll_ = []\r\n",
        "for i in range(100000):\r\n",
        "  M1 = normal(m1, e1_)\r\n",
        "  M2 = normal(m2, e2_)\r\n",
        "  R = normal(r, e3_)\r\n",
        "  F = (G * M1 * M2) / R ** 2\r\n",
        "  coll_.append(F)"
      ],
      "execution_count": 37,
      "outputs": []
    },
    {
      "cell_type": "code",
      "metadata": {
        "colab": {
          "base_uri": "https://localhost:8080/",
          "height": 401
        },
        "id": "z6QCjX_VQLm4",
        "outputId": "d6eecc72-9baa-4214-db34-fa5a1e65a004"
      },
      "source": [
        "plt.hist(coll_, range = (-0.25, 3), bins = 20, density = True)"
      ],
      "execution_count": 39,
      "outputs": [
        {
          "output_type": "execute_result",
          "data": {
            "text/plain": [
              "(array([0.00210157, 0.02482475, 0.26098828, 0.82007062, 1.04605468,\n",
              "        0.92718483, 0.73719009, 0.55809723, 0.41276078, 0.30610628,\n",
              "        0.23524409, 0.18441245, 0.14730667, 0.11689963, 0.09384807,\n",
              "        0.07473696, 0.06462317, 0.0531959 , 0.04741659, 0.04078352]),\n",
              " array([-0.25  , -0.0875,  0.075 ,  0.2375,  0.4   ,  0.5625,  0.725 ,\n",
              "         0.8875,  1.05  ,  1.2125,  1.375 ,  1.5375,  1.7   ,  1.8625,\n",
              "         2.025 ,  2.1875,  2.35  ,  2.5125,  2.675 ,  2.8375,  3.    ]),\n",
              " <a list of 20 Patch objects>)"
            ]
          },
          "metadata": {
            "tags": []
          },
          "execution_count": 39
        },
        {
          "output_type": "display_data",
          "data": {
            "image/png": "[encoded data removed]",
            "text/plain": [
              "<Figure size 432x288 with 1 Axes>"
            ]
          },
          "metadata": {
            "tags": [],
            "needs_background": "light"
          }
        }
      ]
    }
  ]
}