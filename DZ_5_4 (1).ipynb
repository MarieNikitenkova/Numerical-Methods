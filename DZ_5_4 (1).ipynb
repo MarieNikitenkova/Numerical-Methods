{
  "nbformat": 4,
  "nbformat_minor": 0,
  "metadata": {
    "colab": {
      "name": "DZ_5_4.ipynb",
      "provenance": [],
      "collapsed_sections": []
    },
    "kernelspec": {
      "name": "python3",
      "display_name": "Python 3"
    },
    "language_info": {
      "name": "python"
    }
  },
  "cells": [
    {
      "cell_type": "code",
      "metadata": {
        "id": "No3hP1Q6heKU"
      },
      "source": [
        "import matplotlib.pyplot as plt\n",
        "import numpy as np"
      ],
      "execution_count": 12,
      "outputs": []
    },
    {
      "cell_type": "code",
      "metadata": {
        "id": "q4X7ustVSuv4"
      },
      "source": [
        "def newton_iteration(f, fder, x0, eps=1e-5, maxiter=100):\n",
        "    \"\"\"Нахождение корней $f(x) = 0$ через итерации Ньютона.\n",
        "    \n",
        "    Parameters\n",
        "    ----------\n",
        "    f : callable\n",
        "        Функция, корни которой мы хотим найти.\n",
        "    fder : callable\n",
        "        Производная `f`.\n",
        "    x0 : float\n",
        "        Начальное приближение итераций Ньютона.\n",
        "    eps : float\n",
        "        Заданная точность. \n",
        "        Алгоритм прекращает работу когда расстояние между последовательными приближениями меньше `eps`.\n",
        "        По умолчанию 1e-5.\n",
        "    maxiter : int\n",
        "        Максимальное число итераций (по умолчанию 100).\n",
        "        Алгоритм прекращается, когда число итераций достигает `maxiter`.\n",
        "        Этот параметр нужен лишь для предотвращения бесконечного зацикливания.\n",
        "    \n",
        "    Returns\n",
        "    -------\n",
        "    x : float\n",
        "        Найденное приближение к корню.\n",
        "    niter : int\n",
        "        Количество итераций.\n",
        "    \"\"\"\n",
        "    niter = 0\n",
        "    x = x0 + 2 * eps\n",
        "    \n",
        "    while True:\n",
        "        \n",
        "        x = x0 - f(x0) / fder(x0)\n",
        "        niter += 1\n",
        "        \n",
        "        if abs(x - x0) <= eps or niter == maxiter:\n",
        "            break\n",
        "            \n",
        "        x0 = x\n",
        "    \n",
        "    return x, niter"
      ],
      "execution_count": 13,
      "outputs": []
    },
    {
      "cell_type": "code",
      "metadata": {
        "id": "yvFYx1A8hikz"
      },
      "source": [
        "f = lambda z: z**3 - 1\n",
        "\n",
        "fder = lambda z: 3 * z**2\n",
        "\n",
        "import cmath\n",
        "\n",
        "points = 2000\n",
        "eps = 1e-5\n",
        "\n",
        "x_range = np.linspace(-2, 2, points)\n",
        "y_range = np.linspace(-1, 1, points)\n",
        "\n",
        "fractal = np.zeros(shape=(points, points))\n",
        "\n",
        "for i in range(points):\n",
        "    for j in range(points):\n",
        "        x = x_range[i]\n",
        "        y = y_range[j]\n",
        "        z = complex(x,y)\n",
        "        root, iteration = newton_iteration(f, fder, z, eps=1e-5, maxiter=1000)\n",
        "        if abs(root - cmath.exp(2j*cmath.pi*0/3)) <= eps:\n",
        "            fractal[i, j] = 1\n",
        "        if abs(root - cmath.exp(2j*cmath.pi*1/3)) <= eps:\n",
        "            fractal[i, j] = 2\n",
        "        if abs(root - cmath.exp(2j*cmath.pi*2/3)) <= eps:\n",
        "            fractal[i, j] = 3"
      ],
      "execution_count": 14,
      "outputs": []
    },
    {
      "cell_type": "code",
      "metadata": {
        "colab": {
          "base_uri": "https://localhost:8080/",
          "height": 595
        },
        "id": "WKBBhK4zSbdI",
        "outputId": "24a35de2-3d1f-4b18-d46b-4b48c47b59e8"
      },
      "source": [
        "from matplotlib import colors\n",
        "\n",
        "cmap = colors.ListedColormap(['black', 'c', 'white'])\n",
        "bounds = [0, 1, 2, 3]\n",
        "\n",
        "plt.figure(figsize=[10, 10])\n",
        "\n",
        "plt.plot(0, 0, color='black', label=r'$k=0$')\n",
        "plt.plot(0, 0, color='c', label=r'$k=1$')\n",
        "plt.plot(0, 0, color='white', label=r'$k=2$')\n",
        "\n",
        "plt.legend(prop={'size': 15})\n",
        "plt.imshow(fractal, cmap=cmap)\n",
        "plt.show()"
      ],
      "execution_count": 33,
      "outputs": [
        {
          "output_type": "display_data",
          "data": {
            "image/png": "[encoded data removed]",
            "text/plain": [
              "<Figure size 720x720 with 1 Axes>"
            ]
          },
          "metadata": {
            "tags": [],
            "needs_background": "light"
          }
        }
      ]
    }
  ]
}