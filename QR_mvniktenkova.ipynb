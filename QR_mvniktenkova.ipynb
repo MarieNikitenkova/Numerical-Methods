{
  "nbformat": 4,
  "nbformat_minor": 0,
  "metadata": {
    "kernelspec": {
      "display_name": "Python 3",
      "language": "python",
      "name": "python3"
    },
    "language_info": {
      "codemirror_mode": {
        "name": "ipython",
        "version": 3
      },
      "file_extension": ".py",
      "mimetype": "text/x-python",
      "name": "python",
      "nbconvert_exporter": "python",
      "pygments_lexer": "ipython3",
      "version": "3.8.3"
    },
    "colab": {
      "name": "QR_mvniktenkova.ipynb",
      "provenance": []
    }
  },
  "cells": [
    {
      "cell_type": "markdown",
      "metadata": {
        "id": "z0UhK631Ix5f"
      },
      "source": [
        "Before you turn this problem in, make sure everything runs as expected. First, **restart the kernel** (in the menubar, select Kernel$\\rightarrow$Restart) and then **run all cells** (in the menubar, select Cell$\\rightarrow$Run All).\n",
        "\n",
        "Make sure you fill in any place that says `YOUR CODE HERE` or \"YOUR ANSWER HERE\", as well as your name and collaborators below:"
      ]
    },
    {
      "cell_type": "code",
      "metadata": {
        "id": "nCk-FLpHIx52"
      },
      "source": [
        "NAME = \"NIKITENKOVA MARIYA\"\n",
        "COLLABORATORS = \"\""
      ],
      "execution_count": null,
      "outputs": []
    },
    {
      "cell_type": "markdown",
      "metadata": {
        "id": "S2D7ymTdIx55"
      },
      "source": [
        "---"
      ]
    },
    {
      "cell_type": "code",
      "metadata": {
        "deletable": false,
        "editable": false,
        "nbgrader": {
          "cell_type": "code",
          "checksum": "771209e48db0b7681c5ce719d05b2b0c",
          "grade": false,
          "grade_id": "cell-66c8d50345588c95",
          "locked": true,
          "schema_version": 3,
          "solution": false,
          "task": false
        },
        "id": "aJrLyFTCIx55"
      },
      "source": [
        "import numpy as np\n",
        "\n",
        "from numpy.testing import assert_allclose"
      ],
      "execution_count": 4,
      "outputs": []
    },
    {
      "cell_type": "markdown",
      "metadata": {
        "deletable": false,
        "editable": false,
        "nbgrader": {
          "cell_type": "markdown",
          "checksum": "6e341b63b116d4fcfe0588359a79b265",
          "grade": false,
          "grade_id": "cell-cfd189ec24b01044",
          "locked": true,
          "schema_version": 3,
          "solution": false,
          "task": false
        },
        "id": "TkzQP8_bIx56"
      },
      "source": [
        "\n",
        "### Часть I. Постройте отражение Хаусхолдера для вектора.\n",
        "\n",
        "Дан вектор $\\mathbf{x}$ и плоскость, заданная вектором нормали $\\mathbf{u}$. Преобразование Хаусхолдера отражает $\\mathbf{x}$ относительно плоскости.\n",
        "\n",
        "Матрица преобразований Хаусхолдера:\n",
        "$$ \\mathbf{H} = \\mathbf{1} - 2 \\mathbf{u} \\mathbf{u}^T $$\n",
        "\n",
        "Если даны два вектора $\\mathbf{x}$ и $\\mathbf{y}$ одинаковой длины, поворот, преобразующий $\\mathbf{x}$ в $\\mathbf{y}$ называется преобразованием Хаусхолдера с\n",
        "$$ \\mathbf{u} = \\frac{\\mathbf{x} - \\mathbf{y}}{\\left|\\mathbf{x} - \\mathbf{y}\\right|} $$\n",
        "\n",
        "Напишите функцию, преобразующую заданный вектор $\\mathbf{x} = (x_1, \\dots, x_n)$ в $\\mathbf{y} = (\\left|\\mathbf{x}\\right|, 0, \\dots, 0)^T$, используя преобразование Хаусхолдера.\n"
      ]
    },
    {
      "cell_type": "code",
      "metadata": {
        "id": "52wRozPlIx58"
      },
      "source": [
        "def norm(v):\n",
        "    return np.sqrt(np.sum(v**2))"
      ],
      "execution_count": 5,
      "outputs": []
    },
    {
      "cell_type": "code",
      "metadata": {
        "deletable": false,
        "nbgrader": {
          "cell_type": "code",
          "checksum": "73d9a41ece5cf446777b9df562f48cf0",
          "grade": false,
          "grade_id": "cell-d8d82542e794c193",
          "locked": false,
          "schema_version": 3,
          "solution": true,
          "task": false
        },
        "id": "pt45YU6KIx59"
      },
      "source": [
        "def householder(x):\n",
        "    \"\"\"Создает отражение Хаусхолдера, преобразующее 2-ю, 3-ю и т.д. компоненты вектора vec в нули.\n",
        "    \n",
        "    Parameters\n",
        "    ----------\n",
        "    vec : array-like of floats, shape (n,)\n",
        "        Введенный вектор\n",
        "    \n",
        "    Returns\n",
        "    -------\n",
        "    outvec : array of floats, shape (n,)\n",
        "        Преобразованный вектор, причем ``outvec[1:]==0`` и ``|outvec| == |vec|``\n",
        "    H : array of floats, shape (n, n)\n",
        "        Ортогональная матрица отражений Хаусхолдера\n",
        "    \"\"\"\n",
        "    vec = np.array(x, dtype=float, copy = True)\n",
        "    if vec.ndim != 1:\n",
        "        raise ValueError(\"vec.ndim = %s, expected 1\" % vec.ndim)\n",
        "    X_ = np.zeros_like(vec)\n",
        "    X_[0] = norm(vec)\n",
        "\n",
        "    if vec[0] > 0:\n",
        "        vec_ = vec.copy()\n",
        "        vec_[0] = -np.sum(vec[1:]**2) / (vec[0] + norm(vec)) #(x_1 - |x|)\n",
        "        u = vec_ / norm(vec_)\n",
        "    else:\n",
        "        u = (vec - X_) / norm(vec - X_)\n",
        "    u = np.reshape(u, (1, x.shape[0])) \n",
        "    H = np.eye(vec.shape[0]) - 2 * u.T @ u\n",
        "\n",
        "    return X_, H"
      ],
      "execution_count": 6,
      "outputs": []
    },
    {
      "cell_type": "markdown",
      "metadata": {
        "deletable": false,
        "editable": false,
        "nbgrader": {
          "cell_type": "markdown",
          "checksum": "c06ea08fd1f013d15e1b17ca2fb48e27",
          "grade": false,
          "grade_id": "cell-63560fcd44e56146",
          "locked": true,
          "schema_version": 3,
          "solution": false,
          "task": false
        },
        "id": "izPzVOdBIx6A"
      },
      "source": [
        "Протестируйте свою функцию на следующих примерах:"
      ]
    },
    {
      "cell_type": "code",
      "metadata": {
        "deletable": false,
        "editable": false,
        "nbgrader": {
          "cell_type": "code",
          "checksum": "39e0a1b30668d43674e1766410ce698b",
          "grade": true,
          "grade_id": "cell-7364c2b9de6bb44c",
          "locked": true,
          "points": 3,
          "schema_version": 3,
          "solution": false,
          "task": false
        },
        "id": "TMDye-jjIx6A"
      },
      "source": [
        "v = np.array([1, 2, 3])\n",
        "v1, h = householder(v)\n",
        "\n",
        "assert_allclose(h @ v1, v, atol=1e-14)\n",
        "assert_allclose(h @ v, v1, atol=1e-14)\n",
        "\n",
        "assert_allclose(v1[1:], 0, atol=1e-14)\n",
        "\n",
        "assert_allclose(h @ h.T, np.eye(3), atol=1e-14)\n"
      ],
      "execution_count": 7,
      "outputs": []
    },
    {
      "cell_type": "markdown",
      "metadata": {
        "deletable": false,
        "editable": false,
        "nbgrader": {
          "cell_type": "markdown",
          "checksum": "ebe7493dd22452e2422d5f111bc86adc",
          "grade": false,
          "grade_id": "cell-35217c03c48d40be",
          "locked": true,
          "schema_version": 3,
          "solution": false,
          "task": false
        },
        "id": "4tv3kTFQIx6B"
      },
      "source": [
        "### Part II. Вычисление $\\mathrm{QR}$ - разложения матрицы.\n",
        "\n",
        "Дана прямоугольная $m\\times n$ матрица $\\mathbf{A}$. Выполните отражение Хаусхолдера матрицы $\\mathbf{H}_1$, преобразующее первый столбец матрицы $\\mathbf{A}$ (назовем результат $\\mathbf{A}^{(1)}$)\n",
        "\n",
        "$$ \n",
        "\\mathbf{H}_1 \\mathbf{A} %\\begin{pmatrix} \\times &amp; \\times &amp; \\times &amp; \\dots &amp; \\times \\\\ 0 &amp; \\times &amp; \\times &amp; \\dots &amp; \\times \\\\ 0 &amp; \\times &amp; \\times &amp; \\dots &amp; \\times \\\\ &amp;&amp; \\dots&amp;&amp; \\\\ 0 &amp; \\times &amp; \\times &amp; \\dots &amp; \\times \\\\ \\end{pmatrix}\n",
        "%\n",
        "\\equiv \\mathbf{A}^{(1)}\\;. \n",
        "$$\n",
        "\n",
        "Теперь рассмотрим нижнюю правую часть матрицы $\\mathbf{A}^{(1)}$ и выполним преобразование Хаусхолдера, действующее на 2 столбец $\\mathbf{A}$:\n",
        "$$\n",
        "\\mathbf{H}_2 \\mathbf{A}^{(1)} % \\begin{pmatrix} \\times &amp; \\times &amp; \\times &amp; \\dots &amp; \\times \\\\ 0 &amp; \\times &amp; \\times &amp; \\dots &amp; \\times \\\\ 0 &amp; 0 &amp; \\times &amp; \\dots &amp; \\times \\\\ &amp;&amp; \\dots&amp;&amp; \\\\ 0 &amp; 0 &amp; \\times &amp; \\dots &amp; \\times \\\\ \\end{pmatrix}\n",
        "%\n",
        "\\equiv \\mathbf{A}^{(2)} \\;. $$\n",
        "\n",
        "Повторяя процесс $n$ раз, получим\n",
        "$$\n",
        "\\mathbf{H}_{n} \\cdots \\mathbf{H}_2 \\mathbf{H}_1 \\mathbf{A} = \\mathbf{R} \\;, \n",
        "$$\n",
        "\n",
        "где $\\mathbf{R}$ верхняя треугольная матрица. Так как каждая из матриц $\\mathbf{H}_k$ ортогональна, таковым будет и их произведение. Обратная от ортогональной также есть матрица ортогональная. Таким образом, алгоритм создает $\\mathrm{QR}$ - разложение матрицы $\\mathbf{A}$.\n",
        "\n",
        "Напишите функцию, получающую прямоугольную матрицу $A$ и возвращающую матрицы $Q$ и $R$ --- компоненты $QR$-разложения $A$.\n"
      ]
    },
    {
      "cell_type": "code",
      "metadata": {
        "deletable": false,
        "nbgrader": {
          "cell_type": "code",
          "checksum": "8a1f5a91c16847856a0cbb2190e6fc61",
          "grade": false,
          "grade_id": "cell-d5a63eec70d4d566",
          "locked": false,
          "schema_version": 3,
          "solution": true,
          "task": false
        },
        "id": "6t3aj0NtIx6E"
      },
      "source": [
        "def qr_decomp(a):\n",
        "    \"\"\"Вычисляет QR - разложение матрицы.\n",
        "    \n",
        "    Parameters\n",
        "    ----------\n",
        "    a : ndarray, shape(m, n)\n",
        "        Введенная матрица\n",
        "    \n",
        "    Returns\n",
        "    -------\n",
        "    q : ndarray, shape(m, m)\n",
        "        Ортогональная матрица\n",
        "    r : ndarray, shape(m, n)\n",
        "        Верхняя треугольная матрица\n",
        "        \n",
        "    Examples\n",
        "    --------\n",
        "    >>> a = np.random.random(size=(3, 5))\n",
        "    >>> q, r = qr_decomp(a)\n",
        "    >>> np.testing.assert_allclose(q @ r, a, atol=1e-14)\n",
        "    \n",
        "    \"\"\"\n",
        "    R = np.array(a, copy=True, dtype=float)\n",
        "    m, n = R.shape\n",
        "    Q = np.eye(m)\n",
        "    for i in range(min(n,m)):\n",
        "        h = np.eye(m)\n",
        "        _, H = householder(R[i:,i])\n",
        "        h[i:, i:] = H\n",
        "        R = h @ R\n",
        "        Q = Q @ h\n",
        "    return Q, R"
      ],
      "execution_count": 10,
      "outputs": []
    },
    {
      "cell_type": "code",
      "metadata": {
        "id": "9ZwdrUd5Ix6G"
      },
      "source": [
        "rndm = np.random.RandomState(1234)\n",
        "a = rndm.uniform(size=(5, 3))\n",
        "a1 = a.copy()\n",
        "q, r = qr_decomp(a)"
      ],
      "execution_count": 9,
      "outputs": []
    },
    {
      "cell_type": "code",
      "metadata": {
        "deletable": false,
        "editable": false,
        "nbgrader": {
          "cell_type": "code",
          "checksum": "cbad5d2fd9cc1e9402ecf57d84c8d4f6",
          "grade": false,
          "grade_id": "cell-56fbda736c3cd7ea",
          "locked": true,
          "schema_version": 3,
          "solution": false,
          "task": false
        },
        "id": "F0WyjGnjIx6H"
      },
      "source": [
        "# можете запустить данную операцию для бооее сжатого вывода: нули вместо `1e-16` и т.д.\n",
        "np.set_printoptions(suppress=True)"
      ],
      "execution_count": 11,
      "outputs": []
    },
    {
      "cell_type": "code",
      "metadata": {
        "deletable": false,
        "editable": false,
        "nbgrader": {
          "cell_type": "code",
          "checksum": "92b610ca8921e1424ed15186f1ac0245",
          "grade": true,
          "grade_id": "cell-c3391a61cbdadb2f",
          "locked": true,
          "points": 3,
          "schema_version": 3,
          "solution": false,
          "task": false
        },
        "id": "jBWVAw2gIx6I"
      },
      "source": [
        "rndm = np.random.RandomState(1234)\n",
        "a = rndm.uniform(size=(5, 3))\n",
        "a1 = a.copy()\n",
        "\n",
        "q, r = qr_decomp(a)\n",
        "\n",
        "# check that `qr_decomp` leaves `a` intact\n",
        "assert_allclose(a, a1, atol=1e-16)\n",
        "\n",
        "# тестируем, что Q ортогональна\n",
        "assert_allclose(q @ q.T, np.eye(5), atol=1e-14)\n",
        "\n",
        "# проверяем разложение\n",
        "assert_allclose(q @ r, a, atol=1e-14)"
      ],
      "execution_count": 12,
      "outputs": []
    },
    {
      "cell_type": "markdown",
      "metadata": {
        "deletable": false,
        "editable": false,
        "nbgrader": {
          "cell_type": "markdown",
          "checksum": "23a1c1caad0cc026fb9b11be20db43c9",
          "grade": false,
          "grade_id": "cell-c0e81975f522036f",
          "locked": true,
          "schema_version": 3,
          "solution": false,
          "task": false
        },
        "id": "zKia7wmOIx6J"
      },
      "source": [
        "Теперь сравните ваше разложение с разложением, полученным библиотечной функцией (содержащей соответствующие функции библиотеки LAPACK)"
      ]
    },
    {
      "cell_type": "code",
      "metadata": {
        "deletable": false,
        "editable": false,
        "nbgrader": {
          "cell_type": "code",
          "checksum": "ff88b4759f8e931b7fd1c4865974f290",
          "grade": false,
          "grade_id": "cell-30c8e09d6dfccd7e",
          "locked": true,
          "schema_version": 3,
          "solution": false,
          "task": false
        },
        "id": "69pwTGudIx6K"
      },
      "source": [
        "from scipy.linalg import qr\n",
        "qq, rr = qr(a)\n",
        "\n",
        "assert_allclose(np.dot(qq, rr), a,\n",
        "                atol=1e-14)"
      ],
      "execution_count": 13,
      "outputs": []
    },
    {
      "cell_type": "markdown",
      "metadata": {
        "id": "N7IE26cpIx6L"
      },
      "source": [
        "Проверьте, согласуются ли ваши матрицы `q` и `r` с `qq` и `rr`. Объясните результат.\n",
        "Оставьте пояснения в этой ячейке."
      ]
    },
    {
      "cell_type": "code",
      "metadata": {
        "colab": {
          "base_uri": "https://localhost:8080/"
        },
        "id": "bGVI_PpkIx6M",
        "outputId": "022d3614-f284-4231-ff85-208361ab360c"
      },
      "source": [
        "#print(np.linalg.matrix_rank(a))\n",
        "print('Q:\\n', q, '\\n')\n",
        "print('Q_lib:\\n', qq, '\\n')\n",
        "print('R:\\n', r, '\\n')\n",
        "print('R_lib:\\n', rr)"
      ],
      "execution_count": 14,
      "outputs": [
        {
          "output_type": "stream",
          "text": [
            "Q:\n",
            " [[ 0.13665049  0.53601299 -0.09369752  0.7697136   0.30459557]\n",
            " [ 0.56035895  0.0935397  -0.53326881  0.01839528 -0.62652547]\n",
            " [ 0.19725922  0.65948912  0.60068463 -0.32384673 -0.24589462]\n",
            " [ 0.62498418 -0.50418303  0.52144688  0.28453698  0.04822969]\n",
            " [ 0.48765568  0.12171264 -0.27224305 -0.47049398  0.67223293]] \n",
            "\n",
            "Q_lib:\n",
            " [[-0.13665049  0.53601299  0.09369752  0.661619   -0.49749149]\n",
            " [-0.56035895  0.0935397   0.53326881 -0.52477245 -0.34276292]\n",
            " [-0.19725922  0.65948912 -0.60068463 -0.37879015  0.14784752]\n",
            " [-0.62498418 -0.50418303 -0.52144688  0.18967657 -0.21750907]\n",
            " [-0.48765568  0.12171264  0.27224305  0.32774225  0.75222783]] \n",
            "\n",
            "R:\n",
            " [[ 1.40152769  1.2514379   0.89523615]\n",
            " [-0.          0.84158252  0.68447942]\n",
            " [ 0.          0.          0.5496046 ]\n",
            " [-0.         -0.         -0.        ]\n",
            " [-0.         -0.          0.        ]] \n",
            "\n",
            "R_lib:\n",
            " [[-1.40152769 -1.2514379  -0.89523615]\n",
            " [ 0.          0.84158252  0.68447942]\n",
            " [ 0.          0.         -0.5496046 ]\n",
            " [ 0.          0.          0.        ]\n",
            " [ 0.          0.          0.        ]]\n"
          ],
          "name": "stdout"
        }
      ]
    },
    {
      "cell_type": "markdown",
      "metadata": {
        "deletable": false,
        "editable": false,
        "nbgrader": {
          "cell_type": "markdown",
          "checksum": "1a1cfd1969ba69c09cdd68d5e651fb5b",
          "grade": false,
          "grade_id": "cell-28b501b4a2cd3dc1",
          "locked": true,
          "schema_version": 3,
          "solution": false,
          "task": false
        },
        "id": "SUO5cFeBIx6P"
      },
      "source": [
        "\n",
        "### Часть III. Безматричная реализация.\n",
        "\n",
        "Отметим необычную структуру матрицы Хаусхолдера: матрица поворота $\\mathbf{H}$ полностью характеризуется вектором отражения $\\mathbf{u}$. Заметим, также, что вычислительная сложность операции отражения матрицы сильно зависит от порядка операций:\n",
        "$$ \\left( \\mathbf{u} \\mathbf{u}^T \\right) \\mathbf{A} \\qquad \\textrm{is } O(m^2 n)\\;, $$\n",
        "\n",
        "тогда как $$ \\mathbf{u} \\left( \\mathbf{u}^T \\mathbf{A} \\right) \\qquad \\textrm{is } O(mn) $$\n",
        "\n",
        "Таким образом, следует избегать формирований матриц $\\mathbf{H}$. Вместо этого можно сохранять сами векторы отражения $\\mathbf{u}$ и производить умножение произвольной матрицы на $\\mathbf{Q}^T$, например, как отдельную функцию (класс).\n",
        "\n",
        "Напишите функцию, выполняющую QR - разложение матрицы без формирования матриц $\\mathbf{H}$ и возвращающую матрицу $\\mathbf{R}$, а также вектора отражений Хаусхолдера.\n",
        "\n",
        "\n",
        "Напишите вторую функцию, которая использует вектора отражений, полученных предыдущей функцией, для вычисления произведения $Q^T B$ для заданной матрицы B. Убедитесь, что вы добавили достаточно комментариев, следующих вашим выкладкам. \n",
        "\n"
      ]
    },
    {
      "cell_type": "code",
      "metadata": {
        "deletable": false,
        "nbgrader": {
          "cell_type": "code",
          "checksum": "dcc0faefea89bcb89fa28f0ae61fb5e1",
          "grade": false,
          "grade_id": "cell-5360f8930eabe0b4",
          "locked": false,
          "schema_version": 3,
          "solution": true,
          "task": false
        },
        "id": "X9kJYosmIx6R"
      },
      "source": [
        "def qr_nomatrix(a):\n",
        "    \"\"\"Form QR decomposition of `a` via successive Householder reflections.\n",
        "    \n",
        "    Parameters\n",
        "    ----------\n",
        "    a : ndarray\n",
        "        Input matrix\n",
        "    \n",
        "    Returns\n",
        "    -------\n",
        "    R : ndarray\n",
        "        Upper triangular matrix of the QR decomposition\n",
        "    \n",
        "    U : ndarray\n",
        "        Columns store successive Householder reflectors: `U[j:, j]` stores\n",
        "        the Householder reflector for reducing the `j`-th column.\n",
        "        \n",
        "    See Also\n",
        "    --------\n",
        "    householder_apply : apply Householder reflectors stored in `U` to `a`.\n",
        "    \n",
        "    \"\"\"\n",
        "    a_ = np.array(a, copy=True, dtype=float)\n",
        "    m, n = a_.shape\n",
        "    U = np.zeros((m, min(m,n)))\n",
        "    for i in range(min(m,n)):\n",
        "        v = a_[i:, i]\n",
        "        y = np.zeros_like(v)\n",
        "        y[0] = norm(v)\n",
        "        if v[0] > 0:\n",
        "            d = v.copy()\n",
        "            d[0] = -np.sum(v[1:]**2) / (v[0] + norm(v))\n",
        "            u = d / norm(d)\n",
        "        else:\n",
        "            u = (v - y) / norm(v-y)\n",
        "        u = np.reshape(u, (1, v.shape[0]))\n",
        "        for k in range(m - i):\n",
        "            U[i:,i] = u\n",
        "        u_ = np.reshape(U[:, i], (1, m))\n",
        "        a_ = a_ - 2* u_.T @ (u_ @ a_)\n",
        "    return a_, U\n",
        "\n",
        "    \n",
        "def householder_apply(b, uu):\n",
        "    \"\"\"Apply the Householder reflectors stored in `uu` to `b`.\n",
        "    \n",
        "    The result is equivalent to\n",
        "    >>> r, q = qr_decomp(a)\n",
        "    >>> q.T @ b\n",
        "    \n",
        "    Parameters\n",
        "    ----------\n",
        "    b : ndarray\n",
        "        Input matrix\n",
        "    uu : ndarray\n",
        "        Householder reflectors: `U[j:, j]` is the reflection vector\n",
        "        for transforming the `j`-th column of `a`.\n",
        "        \n",
        "    Returns\n",
        "    -------\n",
        "    r : ndarray\n",
        "        The result of applying the reflectors to `b`. Equivalent to\n",
        "        computing `q.T @ b`.\n",
        "\n",
        "    See Also\n",
        "    --------\n",
        "    qr_decomp\n",
        "    \n",
        "    \"\"\"\n",
        "    b_ = np.array(b, copy=True, dtype=float)\n",
        "    for i in range(uu.shape[1]):\n",
        "        u = np.reshape(uu[:, i], (1, uu.shape[0]))\n",
        "        b_ = b_ - 2* u.T @ (u @ b_)\n",
        "    return b_\n",
        "    "
      ],
      "execution_count": 15,
      "outputs": []
    },
    {
      "cell_type": "code",
      "metadata": {
        "deletable": false,
        "editable": false,
        "nbgrader": {
          "cell_type": "code",
          "checksum": "5973b62d7760c8e4f786f62f033e2904",
          "grade": true,
          "grade_id": "cell-68363e2462de3a8b",
          "locked": true,
          "points": 3,
          "schema_version": 3,
          "solution": false,
          "task": false
        },
        "id": "942vxJURIx6T"
      },
      "source": [
        "rndm = np.random.RandomState(1223)\n",
        "\n",
        "a = rndm.uniform(size=(5, 5))\n",
        "R1, U = qr_nomatrix(a)\n",
        "R2 = householder_apply(a, U)\n",
        "R_lib = qr(a)[1]\n",
        "assert_allclose(R1, R2, atol=1e-14)\n"
      ],
      "execution_count": 16,
      "outputs": []
    },
    {
      "cell_type": "code",
      "metadata": {
        "deletable": false,
        "editable": false,
        "nbgrader": {
          "cell_type": "code",
          "checksum": "2eb85b9991a5a4f340ef32307fa42843",
          "grade": true,
          "grade_id": "cell-159c6803d580116d",
          "locked": true,
          "points": 3,
          "schema_version": 3,
          "solution": false,
          "task": false
        },
        "id": "L01flcyLIx6W"
      },
      "source": [
        "# Check consistency with the scipy library decomposition. Allow for sign differences\n",
        "\n",
        "conds = [np.allclose(R2[i, :], R_lib[i, :], atol=1e-14) or\n",
        "         np.allclose(R2[i, :], -R_lib[i, :], atol=1e-14) for i in range(5)]\n",
        "assert False not in conds\n"
      ],
      "execution_count": 17,
      "outputs": []
    },
    {
      "cell_type": "code",
      "metadata": {
        "deletable": false,
        "editable": false,
        "nbgrader": {
          "cell_type": "code",
          "checksum": "eae39ec8a064abcc8a9c74be1b03d24a",
          "grade": true,
          "grade_id": "cell-cfb9d263bcd923ed",
          "locked": true,
          "points": 3,
          "schema_version": 3,
          "solution": false,
          "task": false
        },
        "id": "3Rgxuv1pIx6Y"
      },
      "source": [
        "# More testing here, keep this cell intact\n"
      ],
      "execution_count": null,
      "outputs": []
    }
  ]
}